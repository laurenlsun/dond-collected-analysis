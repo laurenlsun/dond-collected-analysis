{
 "cells": [
  {
   "cell_type": "code",
   "execution_count": 3,
   "id": "04bce336",
   "metadata": {},
   "outputs": [],
   "source": [
    "import pandas as pd\n",
    "import json"
   ]
  },
  {
   "cell_type": "markdown",
   "id": "dd41a43b",
   "metadata": {},
   "source": [
    "# Data Processing"
   ]
  },
  {
   "cell_type": "markdown",
   "id": "2000798d",
   "metadata": {},
   "source": [
    "Import the data that was written by the backend API into the text file with each line being a new entry. Process each line and save it to a list of dictionaries."
   ]
  },
  {
   "cell_type": "code",
   "execution_count": 4,
   "id": "902d1a34",
   "metadata": {
    "scrolled": false
   },
   "outputs": [
    {
     "name": "stdout",
     "output_type": "stream",
     "text": [
      "{'1': [0.01, 1, 5, 25, 50, 75, 200, 400, 500, 1000, 5000, 10000, 50000, 100000, 200000, 300000, 400000, 500000, 750000, 1000000], '2': [0.01, 1, 5, 50, 75, 400, 500, 5000, 10000, 50000, 100000, 200000, 300000, 500000, 750000], '3': [0.01, 1, 5, 75, 500, 10000, 50000, 100000, 200000, 300000, 500000], '4': [1, 5, 75, 10000, 100000, 200000, 300000, 500000], '5': [1, 5, 75, 10000, 300000, 500000], '6': [1, 75, 10000, 300000, 500000], 'bo1': 38973, 'po1': 4500000, 'bo2': 46063, 'po2': 4000000, 'bo3': 53588, 'po3': 500000, 'bo4': 90778, 'po4': 85565375, 'bo5': 104761, 'po5': 400000, 'bo6': 136668, 'po6': 6000, 'result': 'D', 'end_round': 6, 'winnings': 6000, 'game_id': 'G96845'}\n"
     ]
    }
   ],
   "source": [
    "list_of_dicts = []\n",
    "\n",
    "with open('raw_data.txt', \"r\") as f_in:\n",
    "    list_of_dicts = [json.loads(line.strip().replace(\"\\'\", \"\\\"\").replace(\"True\", \"\\\"True\\\"\").replace(\"False\", \"\\\"False\\\"\")) for line in f_in]\n",
    "#     for line in f_in:\n",
    "#         # Remove newline characters and replace single quotes with double quotes\n",
    "#         line = line.strip()\n",
    "#         line = line.replace(\"\\'\", \"\\\"\")\n",
    "#         line = line.replace(\"True\", \"\\\"True\\\"\") # javascript sent the boolean values to the Python API without quotation marks\n",
    "#         line = line.replace(\"False\", \"\\\"False\\\"\")\n",
    "#         list_of_dicts.append(line)\n",
    "        \n",
    "# Print one of the dictionaries in the list\n",
    "print(list_of_dicts[0])"
   ]
  },
  {
   "cell_type": "markdown",
   "id": "b82b898b",
   "metadata": {},
   "source": [
    "Turn it into a dataframe to work with it more easily."
   ]
  },
  {
   "cell_type": "code",
   "execution_count": 5,
   "id": "aa3f57a0",
   "metadata": {
    "scrolled": true
   },
   "outputs": [
    {
     "data": {
      "text/html": [
       "<div>\n",
       "<style scoped>\n",
       "    .dataframe tbody tr th:only-of-type {\n",
       "        vertical-align: middle;\n",
       "    }\n",
       "\n",
       "    .dataframe tbody tr th {\n",
       "        vertical-align: top;\n",
       "    }\n",
       "\n",
       "    .dataframe thead th {\n",
       "        text-align: right;\n",
       "    }\n",
       "</style>\n",
       "<table border=\"1\" class=\"dataframe\">\n",
       "  <thead>\n",
       "    <tr style=\"text-align: right;\">\n",
       "      <th></th>\n",
       "      <th>1</th>\n",
       "      <th>2</th>\n",
       "      <th>3</th>\n",
       "      <th>4</th>\n",
       "      <th>5</th>\n",
       "      <th>6</th>\n",
       "      <th>bo1</th>\n",
       "      <th>po1</th>\n",
       "      <th>bo2</th>\n",
       "      <th>po2</th>\n",
       "      <th>...</th>\n",
       "      <th>7</th>\n",
       "      <th>8</th>\n",
       "      <th>9</th>\n",
       "      <th>bo7</th>\n",
       "      <th>po7</th>\n",
       "      <th>bo8</th>\n",
       "      <th>po8</th>\n",
       "      <th>bo9</th>\n",
       "      <th>po9</th>\n",
       "      <th>first_game</th>\n",
       "    </tr>\n",
       "  </thead>\n",
       "  <tbody>\n",
       "    <tr>\n",
       "      <th>0</th>\n",
       "      <td>[0.01, 1, 5, 25, 50, 75, 200, 400, 500, 1000, ...</td>\n",
       "      <td>[0.01, 1, 5, 50, 75, 400, 500, 5000, 10000, 50...</td>\n",
       "      <td>[0.01, 1, 5, 75, 500, 10000, 50000, 100000, 20...</td>\n",
       "      <td>[1, 5, 75, 10000, 100000, 200000, 300000, 500000]</td>\n",
       "      <td>[1, 5, 75, 10000, 300000, 500000]</td>\n",
       "      <td>[1, 75, 10000, 300000, 500000]</td>\n",
       "      <td>38973</td>\n",
       "      <td>4500000.0</td>\n",
       "      <td>46063.0</td>\n",
       "      <td>4000000.0</td>\n",
       "      <td>...</td>\n",
       "      <td>NaN</td>\n",
       "      <td>NaN</td>\n",
       "      <td>NaN</td>\n",
       "      <td>NaN</td>\n",
       "      <td>NaN</td>\n",
       "      <td>NaN</td>\n",
       "      <td>NaN</td>\n",
       "      <td>NaN</td>\n",
       "      <td>NaN</td>\n",
       "      <td>NaN</td>\n",
       "    </tr>\n",
       "    <tr>\n",
       "      <th>1</th>\n",
       "      <td>[0.01, 5, 10, 25, 50, 100, 200, 300, 400, 750,...</td>\n",
       "      <td>[0.01, 5, 10, 25, 100, 300, 400, 10000, 25000,...</td>\n",
       "      <td>[10, 25, 100, 300, 400, 10000, 75000, 200000, ...</td>\n",
       "      <td>NaN</td>\n",
       "      <td>NaN</td>\n",
       "      <td>NaN</td>\n",
       "      <td>33737</td>\n",
       "      <td>45643532.0</td>\n",
       "      <td>68529.0</td>\n",
       "      <td>45678.0</td>\n",
       "      <td>...</td>\n",
       "      <td>NaN</td>\n",
       "      <td>NaN</td>\n",
       "      <td>NaN</td>\n",
       "      <td>NaN</td>\n",
       "      <td>NaN</td>\n",
       "      <td>NaN</td>\n",
       "      <td>NaN</td>\n",
       "      <td>NaN</td>\n",
       "      <td>NaN</td>\n",
       "      <td>NaN</td>\n",
       "    </tr>\n",
       "    <tr>\n",
       "      <th>2</th>\n",
       "      <td>[0.01, 1, 5, 10, 50, 75, 100, 400, 500, 750, 5...</td>\n",
       "      <td>[0.01, 1, 5, 10, 100, 400, 500, 750, 5000, 250...</td>\n",
       "      <td>[1, 5, 10, 400, 500, 750, 5000, 25000, 75000, ...</td>\n",
       "      <td>NaN</td>\n",
       "      <td>NaN</td>\n",
       "      <td>NaN</td>\n",
       "      <td>36523</td>\n",
       "      <td>423545.0</td>\n",
       "      <td>57742.0</td>\n",
       "      <td>134232.0</td>\n",
       "      <td>...</td>\n",
       "      <td>NaN</td>\n",
       "      <td>NaN</td>\n",
       "      <td>NaN</td>\n",
       "      <td>NaN</td>\n",
       "      <td>NaN</td>\n",
       "      <td>NaN</td>\n",
       "      <td>NaN</td>\n",
       "      <td>NaN</td>\n",
       "      <td>NaN</td>\n",
       "      <td>NaN</td>\n",
       "    </tr>\n",
       "    <tr>\n",
       "      <th>3</th>\n",
       "      <td>[0.01, 1, 5, 10, 25, 50, 75, 200, 300, 400, 50...</td>\n",
       "      <td>NaN</td>\n",
       "      <td>NaN</td>\n",
       "      <td>NaN</td>\n",
       "      <td>NaN</td>\n",
       "      <td>NaN</td>\n",
       "      <td>23982</td>\n",
       "      <td>10.0</td>\n",
       "      <td>NaN</td>\n",
       "      <td>NaN</td>\n",
       "      <td>...</td>\n",
       "      <td>NaN</td>\n",
       "      <td>NaN</td>\n",
       "      <td>NaN</td>\n",
       "      <td>NaN</td>\n",
       "      <td>NaN</td>\n",
       "      <td>NaN</td>\n",
       "      <td>NaN</td>\n",
       "      <td>NaN</td>\n",
       "      <td>NaN</td>\n",
       "      <td>NaN</td>\n",
       "    </tr>\n",
       "    <tr>\n",
       "      <th>4</th>\n",
       "      <td>[0.01, 5, 10, 25, 50, 100, 300, 400, 750, 5000...</td>\n",
       "      <td>NaN</td>\n",
       "      <td>NaN</td>\n",
       "      <td>NaN</td>\n",
       "      <td>NaN</td>\n",
       "      <td>NaN</td>\n",
       "      <td>39839</td>\n",
       "      <td>5.0</td>\n",
       "      <td>NaN</td>\n",
       "      <td>NaN</td>\n",
       "      <td>...</td>\n",
       "      <td>NaN</td>\n",
       "      <td>NaN</td>\n",
       "      <td>NaN</td>\n",
       "      <td>NaN</td>\n",
       "      <td>NaN</td>\n",
       "      <td>NaN</td>\n",
       "      <td>NaN</td>\n",
       "      <td>NaN</td>\n",
       "      <td>NaN</td>\n",
       "      <td>NaN</td>\n",
       "    </tr>\n",
       "  </tbody>\n",
       "</table>\n",
       "<p>5 rows × 32 columns</p>\n",
       "</div>"
      ],
      "text/plain": [
       "                                                   1  \\\n",
       "0  [0.01, 1, 5, 25, 50, 75, 200, 400, 500, 1000, ...   \n",
       "1  [0.01, 5, 10, 25, 50, 100, 200, 300, 400, 750,...   \n",
       "2  [0.01, 1, 5, 10, 50, 75, 100, 400, 500, 750, 5...   \n",
       "3  [0.01, 1, 5, 10, 25, 50, 75, 200, 300, 400, 50...   \n",
       "4  [0.01, 5, 10, 25, 50, 100, 300, 400, 750, 5000...   \n",
       "\n",
       "                                                   2  \\\n",
       "0  [0.01, 1, 5, 50, 75, 400, 500, 5000, 10000, 50...   \n",
       "1  [0.01, 5, 10, 25, 100, 300, 400, 10000, 25000,...   \n",
       "2  [0.01, 1, 5, 10, 100, 400, 500, 750, 5000, 250...   \n",
       "3                                                NaN   \n",
       "4                                                NaN   \n",
       "\n",
       "                                                   3  \\\n",
       "0  [0.01, 1, 5, 75, 500, 10000, 50000, 100000, 20...   \n",
       "1  [10, 25, 100, 300, 400, 10000, 75000, 200000, ...   \n",
       "2  [1, 5, 10, 400, 500, 750, 5000, 25000, 75000, ...   \n",
       "3                                                NaN   \n",
       "4                                                NaN   \n",
       "\n",
       "                                                   4  \\\n",
       "0  [1, 5, 75, 10000, 100000, 200000, 300000, 500000]   \n",
       "1                                                NaN   \n",
       "2                                                NaN   \n",
       "3                                                NaN   \n",
       "4                                                NaN   \n",
       "\n",
       "                                   5                               6    bo1  \\\n",
       "0  [1, 5, 75, 10000, 300000, 500000]  [1, 75, 10000, 300000, 500000]  38973   \n",
       "1                                NaN                             NaN  33737   \n",
       "2                                NaN                             NaN  36523   \n",
       "3                                NaN                             NaN  23982   \n",
       "4                                NaN                             NaN  39839   \n",
       "\n",
       "          po1      bo2        po2  ...    7    8    9  bo7  po7  bo8  po8  \\\n",
       "0   4500000.0  46063.0  4000000.0  ...  NaN  NaN  NaN  NaN  NaN  NaN  NaN   \n",
       "1  45643532.0  68529.0    45678.0  ...  NaN  NaN  NaN  NaN  NaN  NaN  NaN   \n",
       "2    423545.0  57742.0   134232.0  ...  NaN  NaN  NaN  NaN  NaN  NaN  NaN   \n",
       "3        10.0      NaN        NaN  ...  NaN  NaN  NaN  NaN  NaN  NaN  NaN   \n",
       "4         5.0      NaN        NaN  ...  NaN  NaN  NaN  NaN  NaN  NaN  NaN   \n",
       "\n",
       "   bo9 po9  first_game  \n",
       "0  NaN NaN         NaN  \n",
       "1  NaN NaN         NaN  \n",
       "2  NaN NaN         NaN  \n",
       "3  NaN NaN         NaN  \n",
       "4  NaN NaN         NaN  \n",
       "\n",
       "[5 rows x 32 columns]"
      ]
     },
     "execution_count": 5,
     "metadata": {},
     "output_type": "execute_result"
    }
   ],
   "source": [
    "df = pd.DataFrame(list_of_dicts)\n",
    "data = pd.json_normalize(df.to_dict(orient='records'))\n",
    "data.head()"
   ]
  },
  {
   "cell_type": "markdown",
   "id": "d7140147",
   "metadata": {},
   "source": [
    "Get an idea of all the columns we have"
   ]
  },
  {
   "cell_type": "code",
   "execution_count": 6,
   "id": "69110197",
   "metadata": {
    "scrolled": true
   },
   "outputs": [
    {
     "data": {
      "text/plain": [
       "Index(['1', '2', '3', '4', '5', '6', 'bo1', 'po1', 'bo2', 'po2', 'bo3', 'po3',\n",
       "       'bo4', 'po4', 'bo5', 'po5', 'bo6', 'po6', 'result', 'end_round',\n",
       "       'winnings', 'game_id', '7', '8', '9', 'bo7', 'po7', 'bo8', 'po8', 'bo9',\n",
       "       'po9', 'first_game'],\n",
       "      dtype='object')"
      ]
     },
     "execution_count": 6,
     "metadata": {},
     "output_type": "execute_result"
    }
   ],
   "source": [
    "data.columns"
   ]
  },
  {
   "cell_type": "markdown",
   "id": "edffb68a",
   "metadata": {},
   "source": [
    "Delete the entries that aren't linked to Qualtrics responses"
   ]
  },
  {
   "cell_type": "markdown",
   "id": "a295642a",
   "metadata": {},
   "source": [
    "First import the data from the study, which was exported from Qualtrics"
   ]
  },
  {
   "cell_type": "code",
   "execution_count": 30,
   "id": "cf87c3f8",
   "metadata": {
    "scrolled": true
   },
   "outputs": [
    {
     "data": {
      "text/html": [
       "<div>\n",
       "<style scoped>\n",
       "    .dataframe tbody tr th:only-of-type {\n",
       "        vertical-align: middle;\n",
       "    }\n",
       "\n",
       "    .dataframe tbody tr th {\n",
       "        vertical-align: top;\n",
       "    }\n",
       "\n",
       "    .dataframe thead th {\n",
       "        text-align: right;\n",
       "    }\n",
       "</style>\n",
       "<table border=\"1\" class=\"dataframe\">\n",
       "  <thead>\n",
       "    <tr style=\"text-align: right;\">\n",
       "      <th></th>\n",
       "      <th>StartDate</th>\n",
       "      <th>EndDate</th>\n",
       "      <th>Status</th>\n",
       "      <th>Progress</th>\n",
       "      <th>Duration (in seconds)</th>\n",
       "      <th>Finished</th>\n",
       "      <th>RecordedDate</th>\n",
       "      <th>ResponseId</th>\n",
       "      <th>RecipientLastName</th>\n",
       "      <th>RecipientFirstName</th>\n",
       "      <th>...</th>\n",
       "      <th>Q31</th>\n",
       "      <th>Q30</th>\n",
       "      <th>Q29</th>\n",
       "      <th>Q28</th>\n",
       "      <th>Q27</th>\n",
       "      <th>Q26</th>\n",
       "      <th>Q8</th>\n",
       "      <th>Q22</th>\n",
       "      <th>Q22.1</th>\n",
       "      <th>Q23</th>\n",
       "    </tr>\n",
       "  </thead>\n",
       "  <tbody>\n",
       "    <tr>\n",
       "      <th>0</th>\n",
       "      <td>Start Date</td>\n",
       "      <td>End Date</td>\n",
       "      <td>Response Type</td>\n",
       "      <td>Progress</td>\n",
       "      <td>Duration (in seconds)</td>\n",
       "      <td>Finished</td>\n",
       "      <td>Recorded Date</td>\n",
       "      <td>Response ID</td>\n",
       "      <td>Recipient Last Name</td>\n",
       "      <td>Recipient First Name</td>\n",
       "      <td>...</td>\n",
       "      <td>If the chance of getting a disease is 20 out o...</td>\n",
       "      <td>Imagine that we roll a fair, six-sided die 100...</td>\n",
       "      <td>In the BIG BUCKS LOTTERY, the chances of winni...</td>\n",
       "      <td>In the ACME PUBLISHING SWEEPSTAKES, the chance...</td>\n",
       "      <td>In a lake, there is a patch of lily pads. Ever...</td>\n",
       "      <td>If it takes five machines 5 minutes to make fi...</td>\n",
       "      <td>Suppose you have a close friend who has a lump...</td>\n",
       "      <td>Are you familiar with the game Deal or No Deal?</td>\n",
       "      <td>Enter your first game ID (G#####)</td>\n",
       "      <td>Enter your second game ID (G#####)</td>\n",
       "    </tr>\n",
       "    <tr>\n",
       "      <th>1</th>\n",
       "      <td>6/16/2023 11:44</td>\n",
       "      <td>6/16/2023 11:47</td>\n",
       "      <td>IP Address</td>\n",
       "      <td>78</td>\n",
       "      <td>161</td>\n",
       "      <td>FALSE</td>\n",
       "      <td>6/23/2023 11:47</td>\n",
       "      <td>R_3su0Ltne29zNSjJ</td>\n",
       "      <td>NaN</td>\n",
       "      <td>NaN</td>\n",
       "      <td>...</td>\n",
       "      <td>NaN</td>\n",
       "      <td>NaN</td>\n",
       "      <td>NaN</td>\n",
       "      <td>NaN</td>\n",
       "      <td>NaN</td>\n",
       "      <td>NaN</td>\n",
       "      <td>2</td>\n",
       "      <td>NaN</td>\n",
       "      <td>NaN</td>\n",
       "      <td>NaN</td>\n",
       "    </tr>\n",
       "    <tr>\n",
       "      <th>2</th>\n",
       "      <td>7/5/2023 13:02</td>\n",
       "      <td>7/5/2023 13:12</td>\n",
       "      <td>IP Address</td>\n",
       "      <td>81</td>\n",
       "      <td>605</td>\n",
       "      <td>FALSE</td>\n",
       "      <td>7/12/2023 13:12</td>\n",
       "      <td>R_V3adGClNwIKHEKR</td>\n",
       "      <td>NaN</td>\n",
       "      <td>NaN</td>\n",
       "      <td>...</td>\n",
       "      <td>0</td>\n",
       "      <td>0</td>\n",
       "      <td>0</td>\n",
       "      <td>0</td>\n",
       "      <td>0</td>\n",
       "      <td>0</td>\n",
       "      <td>0</td>\n",
       "      <td>NaN</td>\n",
       "      <td>NaN</td>\n",
       "      <td>NaN</td>\n",
       "    </tr>\n",
       "    <tr>\n",
       "      <th>3</th>\n",
       "      <td>8/24/2023 21:46</td>\n",
       "      <td>8/24/2023 21:47</td>\n",
       "      <td>IP Address</td>\n",
       "      <td>100</td>\n",
       "      <td>62</td>\n",
       "      <td>TRUE</td>\n",
       "      <td>8/24/2023 21:47</td>\n",
       "      <td>R_reia0IEJiOWKfT3</td>\n",
       "      <td>NaN</td>\n",
       "      <td>NaN</td>\n",
       "      <td>...</td>\n",
       "      <td>1000</td>\n",
       "      <td>1000</td>\n",
       "      <td>1000</td>\n",
       "      <td>1000</td>\n",
       "      <td>1000</td>\n",
       "      <td>10000</td>\n",
       "      <td>10000</td>\n",
       "      <td>No</td>\n",
       "      <td>3</td>\n",
       "      <td>3</td>\n",
       "    </tr>\n",
       "    <tr>\n",
       "      <th>4</th>\n",
       "      <td>8/31/2023 16:22</td>\n",
       "      <td>8/31/2023 16:27</td>\n",
       "      <td>IP Address</td>\n",
       "      <td>100</td>\n",
       "      <td>347</td>\n",
       "      <td>TRUE</td>\n",
       "      <td>8/31/2023 16:27</td>\n",
       "      <td>R_SNJOxOzIBVlJchH</td>\n",
       "      <td>NaN</td>\n",
       "      <td>NaN</td>\n",
       "      <td>...</td>\n",
       "      <td>20</td>\n",
       "      <td>500</td>\n",
       "      <td>10</td>\n",
       "      <td>0.1</td>\n",
       "      <td>47</td>\n",
       "      <td>5</td>\n",
       "      <td>50</td>\n",
       "      <td>Yes</td>\n",
       "      <td>111</td>\n",
       "      <td>2122</td>\n",
       "    </tr>\n",
       "    <tr>\n",
       "      <th>5</th>\n",
       "      <td>8/24/2023 21:48</td>\n",
       "      <td>8/25/2023 0:38</td>\n",
       "      <td>IP Address</td>\n",
       "      <td>4</td>\n",
       "      <td>10198</td>\n",
       "      <td>FALSE</td>\n",
       "      <td>9/1/2023 0:38</td>\n",
       "      <td>R_pN9gvr2q8XzUXap</td>\n",
       "      <td>NaN</td>\n",
       "      <td>NaN</td>\n",
       "      <td>...</td>\n",
       "      <td>NaN</td>\n",
       "      <td>NaN</td>\n",
       "      <td>NaN</td>\n",
       "      <td>NaN</td>\n",
       "      <td>NaN</td>\n",
       "      <td>NaN</td>\n",
       "      <td>NaN</td>\n",
       "      <td>NaN</td>\n",
       "      <td>NaN</td>\n",
       "      <td>NaN</td>\n",
       "    </tr>\n",
       "    <tr>\n",
       "      <th>6</th>\n",
       "      <td>9/7/2023 17:34</td>\n",
       "      <td>9/7/2023 17:41</td>\n",
       "      <td>IP Address</td>\n",
       "      <td>100</td>\n",
       "      <td>407</td>\n",
       "      <td>TRUE</td>\n",
       "      <td>9/7/2023 17:41</td>\n",
       "      <td>R_1FsJAFREJ8ZcSi5</td>\n",
       "      <td>NaN</td>\n",
       "      <td>NaN</td>\n",
       "      <td>...</td>\n",
       "      <td>20</td>\n",
       "      <td>500</td>\n",
       "      <td>100</td>\n",
       "      <td>0.001</td>\n",
       "      <td>47</td>\n",
       "      <td>1</td>\n",
       "      <td>9</td>\n",
       "      <td>Yes</td>\n",
       "      <td>G61742</td>\n",
       "      <td>G37411</td>\n",
       "    </tr>\n",
       "    <tr>\n",
       "      <th>7</th>\n",
       "      <td>9/7/2023 17:33</td>\n",
       "      <td>9/7/2023 17:45</td>\n",
       "      <td>IP Address</td>\n",
       "      <td>100</td>\n",
       "      <td>731</td>\n",
       "      <td>TRUE</td>\n",
       "      <td>9/7/2023 17:45</td>\n",
       "      <td>R_3GkrBHRQO78S3F3</td>\n",
       "      <td>NaN</td>\n",
       "      <td>NaN</td>\n",
       "      <td>...</td>\n",
       "      <td>20</td>\n",
       "      <td>500</td>\n",
       "      <td>10</td>\n",
       "      <td>0.1</td>\n",
       "      <td>47</td>\n",
       "      <td>5</td>\n",
       "      <td>50</td>\n",
       "      <td>No</td>\n",
       "      <td>G98688</td>\n",
       "      <td>G77438</td>\n",
       "    </tr>\n",
       "    <tr>\n",
       "      <th>8</th>\n",
       "      <td>9/7/2023 17:46</td>\n",
       "      <td>9/7/2023 17:54</td>\n",
       "      <td>IP Address</td>\n",
       "      <td>100</td>\n",
       "      <td>464</td>\n",
       "      <td>TRUE</td>\n",
       "      <td>9/7/2023 17:54</td>\n",
       "      <td>R_296Up7NaeLaPjAb</td>\n",
       "      <td>NaN</td>\n",
       "      <td>NaN</td>\n",
       "      <td>...</td>\n",
       "      <td>20</td>\n",
       "      <td>500</td>\n",
       "      <td>10</td>\n",
       "      <td>0.1</td>\n",
       "      <td>47</td>\n",
       "      <td>5</td>\n",
       "      <td>50</td>\n",
       "      <td>Yes</td>\n",
       "      <td>G61803</td>\n",
       "      <td>G93864</td>\n",
       "    </tr>\n",
       "    <tr>\n",
       "      <th>9</th>\n",
       "      <td>9/7/2023 17:43</td>\n",
       "      <td>9/7/2023 17:58</td>\n",
       "      <td>IP Address</td>\n",
       "      <td>100</td>\n",
       "      <td>893</td>\n",
       "      <td>TRUE</td>\n",
       "      <td>9/7/2023 17:58</td>\n",
       "      <td>R_3ilodc6SanicvUO</td>\n",
       "      <td>NaN</td>\n",
       "      <td>NaN</td>\n",
       "      <td>...</td>\n",
       "      <td>20</td>\n",
       "      <td>500</td>\n",
       "      <td>10</td>\n",
       "      <td>10</td>\n",
       "      <td>24</td>\n",
       "      <td>100</td>\n",
       "      <td>90</td>\n",
       "      <td>Yes</td>\n",
       "      <td>G24923</td>\n",
       "      <td>G35139</td>\n",
       "    </tr>\n",
       "  </tbody>\n",
       "</table>\n",
       "<p>10 rows × 43 columns</p>\n",
       "</div>"
      ],
      "text/plain": [
       "         StartDate          EndDate         Status  Progress  \\\n",
       "0       Start Date         End Date  Response Type  Progress   \n",
       "1  6/16/2023 11:44  6/16/2023 11:47     IP Address        78   \n",
       "2   7/5/2023 13:02   7/5/2023 13:12     IP Address        81   \n",
       "3  8/24/2023 21:46  8/24/2023 21:47     IP Address       100   \n",
       "4  8/31/2023 16:22  8/31/2023 16:27     IP Address       100   \n",
       "5  8/24/2023 21:48   8/25/2023 0:38     IP Address         4   \n",
       "6   9/7/2023 17:34   9/7/2023 17:41     IP Address       100   \n",
       "7   9/7/2023 17:33   9/7/2023 17:45     IP Address       100   \n",
       "8   9/7/2023 17:46   9/7/2023 17:54     IP Address       100   \n",
       "9   9/7/2023 17:43   9/7/2023 17:58     IP Address       100   \n",
       "\n",
       "   Duration (in seconds)  Finished     RecordedDate         ResponseId  \\\n",
       "0  Duration (in seconds)  Finished    Recorded Date        Response ID   \n",
       "1                    161     FALSE  6/23/2023 11:47  R_3su0Ltne29zNSjJ   \n",
       "2                    605     FALSE  7/12/2023 13:12  R_V3adGClNwIKHEKR   \n",
       "3                     62      TRUE  8/24/2023 21:47  R_reia0IEJiOWKfT3   \n",
       "4                    347      TRUE  8/31/2023 16:27  R_SNJOxOzIBVlJchH   \n",
       "5                  10198     FALSE    9/1/2023 0:38  R_pN9gvr2q8XzUXap   \n",
       "6                    407      TRUE   9/7/2023 17:41  R_1FsJAFREJ8ZcSi5   \n",
       "7                    731      TRUE   9/7/2023 17:45  R_3GkrBHRQO78S3F3   \n",
       "8                    464      TRUE   9/7/2023 17:54  R_296Up7NaeLaPjAb   \n",
       "9                    893      TRUE   9/7/2023 17:58  R_3ilodc6SanicvUO   \n",
       "\n",
       "     RecipientLastName    RecipientFirstName  ...  \\\n",
       "0  Recipient Last Name  Recipient First Name  ...   \n",
       "1                  NaN                   NaN  ...   \n",
       "2                  NaN                   NaN  ...   \n",
       "3                  NaN                   NaN  ...   \n",
       "4                  NaN                   NaN  ...   \n",
       "5                  NaN                   NaN  ...   \n",
       "6                  NaN                   NaN  ...   \n",
       "7                  NaN                   NaN  ...   \n",
       "8                  NaN                   NaN  ...   \n",
       "9                  NaN                   NaN  ...   \n",
       "\n",
       "                                                 Q31  \\\n",
       "0  If the chance of getting a disease is 20 out o...   \n",
       "1                                                NaN   \n",
       "2                                                  0   \n",
       "3                                               1000   \n",
       "4                                                 20   \n",
       "5                                                NaN   \n",
       "6                                                 20   \n",
       "7                                                 20   \n",
       "8                                                 20   \n",
       "9                                                 20   \n",
       "\n",
       "                                                 Q30  \\\n",
       "0  Imagine that we roll a fair, six-sided die 100...   \n",
       "1                                                NaN   \n",
       "2                                                  0   \n",
       "3                                               1000   \n",
       "4                                                500   \n",
       "5                                                NaN   \n",
       "6                                                500   \n",
       "7                                                500   \n",
       "8                                                500   \n",
       "9                                                500   \n",
       "\n",
       "                                                 Q29  \\\n",
       "0  In the BIG BUCKS LOTTERY, the chances of winni...   \n",
       "1                                                NaN   \n",
       "2                                                  0   \n",
       "3                                               1000   \n",
       "4                                                 10   \n",
       "5                                                NaN   \n",
       "6                                                100   \n",
       "7                                                 10   \n",
       "8                                                 10   \n",
       "9                                                 10   \n",
       "\n",
       "                                                 Q28  \\\n",
       "0  In the ACME PUBLISHING SWEEPSTAKES, the chance...   \n",
       "1                                                NaN   \n",
       "2                                                  0   \n",
       "3                                               1000   \n",
       "4                                                0.1   \n",
       "5                                                NaN   \n",
       "6                                              0.001   \n",
       "7                                                0.1   \n",
       "8                                                0.1   \n",
       "9                                                 10   \n",
       "\n",
       "                                                 Q27  \\\n",
       "0  In a lake, there is a patch of lily pads. Ever...   \n",
       "1                                                NaN   \n",
       "2                                                  0   \n",
       "3                                               1000   \n",
       "4                                                 47   \n",
       "5                                                NaN   \n",
       "6                                                 47   \n",
       "7                                                 47   \n",
       "8                                                 47   \n",
       "9                                                 24   \n",
       "\n",
       "                                                 Q26  \\\n",
       "0  If it takes five machines 5 minutes to make fi...   \n",
       "1                                                NaN   \n",
       "2                                                  0   \n",
       "3                                              10000   \n",
       "4                                                  5   \n",
       "5                                                NaN   \n",
       "6                                                  1   \n",
       "7                                                  5   \n",
       "8                                                  5   \n",
       "9                                                100   \n",
       "\n",
       "                                                  Q8  \\\n",
       "0  Suppose you have a close friend who has a lump...   \n",
       "1                                                  2   \n",
       "2                                                  0   \n",
       "3                                              10000   \n",
       "4                                                 50   \n",
       "5                                                NaN   \n",
       "6                                                  9   \n",
       "7                                                 50   \n",
       "8                                                 50   \n",
       "9                                                 90   \n",
       "\n",
       "                                               Q22  \\\n",
       "0  Are you familiar with the game Deal or No Deal?   \n",
       "1                                              NaN   \n",
       "2                                              NaN   \n",
       "3                                               No   \n",
       "4                                              Yes   \n",
       "5                                              NaN   \n",
       "6                                              Yes   \n",
       "7                                               No   \n",
       "8                                              Yes   \n",
       "9                                              Yes   \n",
       "\n",
       "                               Q22.1                                 Q23  \n",
       "0  Enter your first game ID (G#####)  Enter your second game ID (G#####)  \n",
       "1                                NaN                                 NaN  \n",
       "2                                NaN                                 NaN  \n",
       "3                                  3                                   3  \n",
       "4                                111                                2122  \n",
       "5                                NaN                                 NaN  \n",
       "6                             G61742                              G37411  \n",
       "7                             G98688                              G77438  \n",
       "8                             G61803                              G93864  \n",
       "9                             G24923                              G35139  \n",
       "\n",
       "[10 rows x 43 columns]"
      ]
     },
     "execution_count": 30,
     "metadata": {},
     "output_type": "execute_result"
    }
   ],
   "source": [
    "qualtrics = pd.read_csv('Decision Making_October 9, 2023_10.15 - Sheet1.csv')\n",
    "qualtrics.head(10)"
   ]
  },
  {
   "cell_type": "markdown",
   "id": "d0cee830",
   "metadata": {},
   "source": [
    "Isolate the two columns that have the Game ID's that will be used to filter the data df"
   ]
  },
  {
   "cell_type": "code",
   "execution_count": 31,
   "id": "ecfcf998",
   "metadata": {},
   "outputs": [],
   "source": [
    "g1 = qualtrics['Q22.1']\n",
    "g2 = qualtrics['Q23']"
   ]
  },
  {
   "cell_type": "code",
   "execution_count": 32,
   "id": "0c374aec",
   "metadata": {
    "scrolled": true
   },
   "outputs": [
    {
     "data": {
      "text/plain": [
       "pandas.core.series.Series"
      ]
     },
     "execution_count": 32,
     "metadata": {},
     "output_type": "execute_result"
    }
   ],
   "source": [
    "type(g1)"
   ]
  },
  {
   "cell_type": "markdown",
   "id": "86b1e2f5",
   "metadata": {},
   "source": [
    "Filter out rows in data whose game ID's don't match a response from a participant in the Qualtrics survey"
   ]
  },
  {
   "cell_type": "code",
   "execution_count": 33,
   "id": "ffd45459",
   "metadata": {
    "scrolled": true
   },
   "outputs": [
    {
     "data": {
      "text/plain": [
       "(560, 32)"
      ]
     },
     "execution_count": 33,
     "metadata": {},
     "output_type": "execute_result"
    }
   ],
   "source": [
    "data = data[data['game_id'].isin(g1) | data['game_id'].isin(g2)]\n",
    "data.shape"
   ]
  },
  {
   "cell_type": "markdown",
   "id": "dc9711c9",
   "metadata": {},
   "source": [
    "Create df just for banker's offer version"
   ]
  },
  {
   "cell_type": "code",
   "execution_count": 34,
   "id": "55df2906",
   "metadata": {},
   "outputs": [
    {
     "data": {
      "text/plain": [
       "(281, 32)"
      ]
     },
     "execution_count": 34,
     "metadata": {},
     "output_type": "execute_result"
    }
   ],
   "source": [
    "bdata = data[data['po1'].isnull()]\n",
    "bdata.shape"
   ]
  },
  {
   "cell_type": "markdown",
   "id": "aa084e9c",
   "metadata": {},
   "source": [
    "Create df just for player's offer version"
   ]
  },
  {
   "cell_type": "code",
   "execution_count": 35,
   "id": "24319410",
   "metadata": {},
   "outputs": [
    {
     "data": {
      "text/plain": [
       "(279, 32)"
      ]
     },
     "execution_count": 35,
     "metadata": {},
     "output_type": "execute_result"
    }
   ],
   "source": [
    "pdata = data[data['po1'].notnull()]\n",
    "pdata.shape"
   ]
  },
  {
   "cell_type": "markdown",
   "id": "48f72d2b",
   "metadata": {},
   "source": [
    "Delete the rows from qualtrics data that aren't real game numbers"
   ]
  },
  {
   "cell_type": "code",
   "execution_count": 37,
   "id": "d4115bab",
   "metadata": {},
   "outputs": [
    {
     "data": {
      "text/plain": [
       "(290, 43)"
      ]
     },
     "execution_count": 37,
     "metadata": {},
     "output_type": "execute_result"
    }
   ],
   "source": [
    "qualtrics = qualtrics[qualtrics['Q22.1'].isin(data['game_id'])]\n",
    "qualtrics.shape"
   ]
  },
  {
   "cell_type": "markdown",
   "id": "d3cf166d",
   "metadata": {},
   "source": [
    "# Exploratory Data Analysis"
   ]
  },
  {
   "cell_type": "markdown",
   "id": "98a23112",
   "metadata": {},
   "source": [
    "## Overall Data"
   ]
  },
  {
   "cell_type": "code",
   "execution_count": 11,
   "id": "732d4548",
   "metadata": {},
   "outputs": [
    {
     "data": {
      "text/html": [
       "<div>\n",
       "<style scoped>\n",
       "    .dataframe tbody tr th:only-of-type {\n",
       "        vertical-align: middle;\n",
       "    }\n",
       "\n",
       "    .dataframe tbody tr th {\n",
       "        vertical-align: top;\n",
       "    }\n",
       "\n",
       "    .dataframe thead th {\n",
       "        text-align: right;\n",
       "    }\n",
       "</style>\n",
       "<table border=\"1\" class=\"dataframe\">\n",
       "  <thead>\n",
       "    <tr style=\"text-align: right;\">\n",
       "      <th></th>\n",
       "      <th>winnings</th>\n",
       "      <th>end_round</th>\n",
       "    </tr>\n",
       "  </thead>\n",
       "  <tbody>\n",
       "    <tr>\n",
       "      <th>count</th>\n",
       "      <td>560.000000</td>\n",
       "      <td>560.000000</td>\n",
       "    </tr>\n",
       "    <tr>\n",
       "      <th>mean</th>\n",
       "      <td>63194.935857</td>\n",
       "      <td>4.594643</td>\n",
       "    </tr>\n",
       "    <tr>\n",
       "      <th>std</th>\n",
       "      <td>137207.247569</td>\n",
       "      <td>3.552566</td>\n",
       "    </tr>\n",
       "    <tr>\n",
       "      <th>min</th>\n",
       "      <td>0.000000</td>\n",
       "      <td>1.000000</td>\n",
       "    </tr>\n",
       "    <tr>\n",
       "      <th>25%</th>\n",
       "      <td>500.000000</td>\n",
       "      <td>1.000000</td>\n",
       "    </tr>\n",
       "    <tr>\n",
       "      <th>50%</th>\n",
       "      <td>25000.000000</td>\n",
       "      <td>3.000000</td>\n",
       "    </tr>\n",
       "    <tr>\n",
       "      <th>75%</th>\n",
       "      <td>58776.000000</td>\n",
       "      <td>9.000000</td>\n",
       "    </tr>\n",
       "    <tr>\n",
       "      <th>max</th>\n",
       "      <td>1000000.000000</td>\n",
       "      <td>10.000000</td>\n",
       "    </tr>\n",
       "  </tbody>\n",
       "</table>\n",
       "</div>"
      ],
      "text/plain": [
       "             winnings   end_round\n",
       "count      560.000000  560.000000\n",
       "mean     63194.935857    4.594643\n",
       "std     137207.247569    3.552566\n",
       "min          0.000000    1.000000\n",
       "25%        500.000000    1.000000\n",
       "50%      25000.000000    3.000000\n",
       "75%      58776.000000    9.000000\n",
       "max    1000000.000000   10.000000"
      ]
     },
     "execution_count": 11,
     "metadata": {},
     "output_type": "execute_result"
    }
   ],
   "source": [
    "data[['winnings', 'end_round']].describe()"
   ]
  },
  {
   "cell_type": "markdown",
   "id": "2e8c81a8",
   "metadata": {},
   "source": [
    "## Banker's Offer Version"
   ]
  },
  {
   "cell_type": "code",
   "execution_count": 25,
   "id": "ffc2b89c",
   "metadata": {},
   "outputs": [
    {
     "data": {
      "text/html": [
       "<div>\n",
       "<style scoped>\n",
       "    .dataframe tbody tr th:only-of-type {\n",
       "        vertical-align: middle;\n",
       "    }\n",
       "\n",
       "    .dataframe tbody tr th {\n",
       "        vertical-align: top;\n",
       "    }\n",
       "\n",
       "    .dataframe thead th {\n",
       "        text-align: right;\n",
       "    }\n",
       "</style>\n",
       "<table border=\"1\" class=\"dataframe\">\n",
       "  <thead>\n",
       "    <tr style=\"text-align: right;\">\n",
       "      <th></th>\n",
       "      <th>winnings</th>\n",
       "      <th>end_round</th>\n",
       "    </tr>\n",
       "  </thead>\n",
       "  <tbody>\n",
       "    <tr>\n",
       "      <th>count</th>\n",
       "      <td>281.000000</td>\n",
       "      <td>281.00000</td>\n",
       "    </tr>\n",
       "    <tr>\n",
       "      <th>mean</th>\n",
       "      <td>88009.338149</td>\n",
       "      <td>4.24911</td>\n",
       "    </tr>\n",
       "    <tr>\n",
       "      <th>std</th>\n",
       "      <td>135091.650043</td>\n",
       "      <td>3.32553</td>\n",
       "    </tr>\n",
       "    <tr>\n",
       "      <th>min</th>\n",
       "      <td>0.010000</td>\n",
       "      <td>1.00000</td>\n",
       "    </tr>\n",
       "    <tr>\n",
       "      <th>25%</th>\n",
       "      <td>28785.000000</td>\n",
       "      <td>1.00000</td>\n",
       "    </tr>\n",
       "    <tr>\n",
       "      <th>50%</th>\n",
       "      <td>43105.000000</td>\n",
       "      <td>3.00000</td>\n",
       "    </tr>\n",
       "    <tr>\n",
       "      <th>75%</th>\n",
       "      <td>93752.000000</td>\n",
       "      <td>7.00000</td>\n",
       "    </tr>\n",
       "    <tr>\n",
       "      <th>max</th>\n",
       "      <td>1000000.000000</td>\n",
       "      <td>10.00000</td>\n",
       "    </tr>\n",
       "  </tbody>\n",
       "</table>\n",
       "</div>"
      ],
      "text/plain": [
       "             winnings  end_round\n",
       "count      281.000000  281.00000\n",
       "mean     88009.338149    4.24911\n",
       "std     135091.650043    3.32553\n",
       "min          0.010000    1.00000\n",
       "25%      28785.000000    1.00000\n",
       "50%      43105.000000    3.00000\n",
       "75%      93752.000000    7.00000\n",
       "max    1000000.000000   10.00000"
      ]
     },
     "execution_count": 25,
     "metadata": {},
     "output_type": "execute_result"
    }
   ],
   "source": [
    "bdata[['winnings', 'end_round']].describe()"
   ]
  },
  {
   "cell_type": "markdown",
   "id": "4bf3cb07",
   "metadata": {},
   "source": [
    "## Player's Offer Version"
   ]
  },
  {
   "cell_type": "code",
   "execution_count": 26,
   "id": "a657edfc",
   "metadata": {},
   "outputs": [
    {
     "data": {
      "text/html": [
       "<div>\n",
       "<style scoped>\n",
       "    .dataframe tbody tr th:only-of-type {\n",
       "        vertical-align: middle;\n",
       "    }\n",
       "\n",
       "    .dataframe tbody tr th {\n",
       "        vertical-align: top;\n",
       "    }\n",
       "\n",
       "    .dataframe thead th {\n",
       "        text-align: right;\n",
       "    }\n",
       "</style>\n",
       "<table border=\"1\" class=\"dataframe\">\n",
       "  <thead>\n",
       "    <tr style=\"text-align: right;\">\n",
       "      <th></th>\n",
       "      <th>winnings</th>\n",
       "      <th>end_round</th>\n",
       "    </tr>\n",
       "  </thead>\n",
       "  <tbody>\n",
       "    <tr>\n",
       "      <th>count</th>\n",
       "      <td>279.000000</td>\n",
       "      <td>279.000000</td>\n",
       "    </tr>\n",
       "    <tr>\n",
       "      <th>mean</th>\n",
       "      <td>38202.652545</td>\n",
       "      <td>4.942652</td>\n",
       "    </tr>\n",
       "    <tr>\n",
       "      <th>std</th>\n",
       "      <td>134998.172054</td>\n",
       "      <td>3.741216</td>\n",
       "    </tr>\n",
       "    <tr>\n",
       "      <th>min</th>\n",
       "      <td>0.000000</td>\n",
       "      <td>1.000000</td>\n",
       "    </tr>\n",
       "    <tr>\n",
       "      <th>25%</th>\n",
       "      <td>85.000000</td>\n",
       "      <td>1.000000</td>\n",
       "    </tr>\n",
       "    <tr>\n",
       "      <th>50%</th>\n",
       "      <td>1000.000000</td>\n",
       "      <td>3.000000</td>\n",
       "    </tr>\n",
       "    <tr>\n",
       "      <th>75%</th>\n",
       "      <td>10000.000000</td>\n",
       "      <td>10.000000</td>\n",
       "    </tr>\n",
       "    <tr>\n",
       "      <th>max</th>\n",
       "      <td>1000000.000000</td>\n",
       "      <td>10.000000</td>\n",
       "    </tr>\n",
       "  </tbody>\n",
       "</table>\n",
       "</div>"
      ],
      "text/plain": [
       "             winnings   end_round\n",
       "count      279.000000  279.000000\n",
       "mean     38202.652545    4.942652\n",
       "std     134998.172054    3.741216\n",
       "min          0.000000    1.000000\n",
       "25%         85.000000    1.000000\n",
       "50%       1000.000000    3.000000\n",
       "75%      10000.000000   10.000000\n",
       "max    1000000.000000   10.000000"
      ]
     },
     "execution_count": 26,
     "metadata": {},
     "output_type": "execute_result"
    }
   ],
   "source": [
    "pdata[['winnings', 'end_round']].describe()"
   ]
  },
  {
   "cell_type": "markdown",
   "id": "d03e8c9d",
   "metadata": {},
   "source": [
    "## Qualtrics Responses"
   ]
  },
  {
   "cell_type": "markdown",
   "id": "58fb21fd",
   "metadata": {},
   "source": [
    "### List of Questions"
   ]
  },
  {
   "cell_type": "markdown",
   "id": "40acd790",
   "metadata": {},
   "source": [
    "Get a list of the questions"
   ]
  },
  {
   "cell_type": "code",
   "execution_count": 12,
   "id": "f8109480",
   "metadata": {
    "scrolled": true
   },
   "outputs": [
    {
     "data": {
      "text/plain": [
       "Index(['StartDate', 'EndDate', 'Status', 'IPAddress', 'Progress',\n",
       "       'Duration (in seconds)', 'Finished', 'RecordedDate', 'ResponseId',\n",
       "       'RecipientLastName', 'RecipientFirstName', 'RecipientEmail',\n",
       "       'ExternalReference', 'LocationLatitude', 'LocationLongitude',\n",
       "       'DistributionChannel', 'UserLanguage', 'Q24', 'Q1', 'Q2', 'Q3',\n",
       "       'Q3_3_TEXT', 'id', 'Q4', 'Q5', 'Q10', 'Q12', 'Q11', 'Q13', 'Q14', 'Q15',\n",
       "       'Q16', 'Q17', 'Q32', 'Q31', 'Q30', 'Q29', 'Q28', 'Q27', 'Q26', 'Q8',\n",
       "       'Q22', 'Q22.1', 'Q23'],\n",
       "      dtype='object')"
      ]
     },
     "execution_count": 12,
     "metadata": {},
     "output_type": "execute_result"
    }
   ],
   "source": [
    "qualtrics.columns"
   ]
  },
  {
   "cell_type": "markdown",
   "id": "fab97da5",
   "metadata": {},
   "source": [
    "The actual questions are listed in row 1"
   ]
  },
  {
   "cell_type": "code",
   "execution_count": 13,
   "id": "0019f26d",
   "metadata": {},
   "outputs": [
    {
     "data": {
      "text/plain": [
       "StartDate                                                       Start Date\n",
       "EndDate                                                           End Date\n",
       "Status                                                       Response Type\n",
       "IPAddress                                                       IP Address\n",
       "Progress                                                          Progress\n",
       "Duration (in seconds)                                Duration (in seconds)\n",
       "Finished                                                          Finished\n",
       "RecordedDate                                                 Recorded Date\n",
       "ResponseId                                                     Response ID\n",
       "RecipientLastName                                      Recipient Last Name\n",
       "RecipientFirstName                                    Recipient First Name\n",
       "RecipientEmail                                             Recipient Email\n",
       "ExternalReference                                  External Data Reference\n",
       "LocationLatitude                                         Location Latitude\n",
       "LocationLongitude                                       Location Longitude\n",
       "DistributionChannel                                   Distribution Channel\n",
       "UserLanguage                                                 User Language\n",
       "Q24                      Please read the following information regardin...\n",
       "Q1                                                Enter your age in years:\n",
       "Q2                       Enter the number of years of formal education ...\n",
       "Q3                                   Select your gender: - Selected Choice\n",
       "Q3_3_TEXT                              Select your gender: - Other: - Text\n",
       "id                            Enter your full name (as it appears in SONA)\n",
       "Q4                       Have you ever gambled? (e.g., sports betting, ...\n",
       "Q5                                      Have you gambled in the past year?\n",
       "Q10                            How good are you at working with fractions?\n",
       "Q12                          How good are you at working with percentages?\n",
       "Q11                             How good are you at calculating a 15% tip?\n",
       "Q13                      How good are you at figuring out how much a sh...\n",
       "Q14                      When reading the newspaper, how helpful do you...\n",
       "Q15                      When people tell you the chance of something h...\n",
       "Q16                      When you hear a weather forecast, do you prefe...\n",
       "Q17                      How often do you find numerical information to...\n",
       "Q32                      If the chance of getting a disease is 10%, how...\n",
       "Q31                      If the chance of getting a disease is 20 out o...\n",
       "Q30                      Imagine that we roll a fair, six-sided die 100...\n",
       "Q29                      In the BIG BUCKS LOTTERY, the chances of winni...\n",
       "Q28                      In the ACME PUBLISHING SWEEPSTAKES, the chance...\n",
       "Q27                      In a lake, there is a patch of lily pads. Ever...\n",
       "Q26                      If it takes five machines 5 minutes to make fi...\n",
       "Q8                       Suppose you have a close friend who has a lump...\n",
       "Q22                        Are you familiar with the game Deal or No Deal?\n",
       "Q22.1                                    Enter your first game ID (G#####)\n",
       "Q23                                     Enter your second game ID (G#####)\n",
       "Name: 0, dtype: object"
      ]
     },
     "execution_count": 13,
     "metadata": {},
     "output_type": "execute_result"
    }
   ],
   "source": [
    "qualtrics.iloc[0]"
   ]
  },
  {
   "cell_type": "code",
   "execution_count": 15,
   "id": "a4bd3cdc",
   "metadata": {},
   "outputs": [
    {
     "data": {
      "text/plain": [
       "0      In the BIG BUCKS LOTTERY, the chances of winni...\n",
       "2                                                      0\n",
       "3                                                   1000\n",
       "4                                                     10\n",
       "6                                                    100\n",
       "                             ...                        \n",
       "391                                                   10\n",
       "392                                                   10\n",
       "393                                                   10\n",
       "394                                                   10\n",
       "395                                                   10\n",
       "Name: Q29, Length: 340, dtype: object"
      ]
     },
     "execution_count": 15,
     "metadata": {},
     "output_type": "execute_result"
    }
   ],
   "source": [
    "qualtrics['Q29'].dropna()"
   ]
  },
  {
   "cell_type": "code",
   "execution_count": null,
   "id": "03a4cf1b",
   "metadata": {},
   "outputs": [],
   "source": []
  },
  {
   "cell_type": "code",
   "execution_count": null,
   "id": "4f5f8a5d",
   "metadata": {},
   "outputs": [],
   "source": []
  }
 ],
 "metadata": {
  "kernelspec": {
   "display_name": "Python 3 (ipykernel)",
   "language": "python",
   "name": "python3"
  },
  "language_info": {
   "codemirror_mode": {
    "name": "ipython",
    "version": 3
   },
   "file_extension": ".py",
   "mimetype": "text/x-python",
   "name": "python",
   "nbconvert_exporter": "python",
   "pygments_lexer": "ipython3",
   "version": "3.9.12"
  }
 },
 "nbformat": 4,
 "nbformat_minor": 5
}
